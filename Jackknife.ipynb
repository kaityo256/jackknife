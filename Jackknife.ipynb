{
  "nbformat": 4,
  "nbformat_minor": 0,
  "metadata": {
    "colab": {
      "name": "Jackknife.ipynb",
      "provenance": [],
      "collapsed_sections": []
    },
    "kernelspec": {
      "name": "python3",
      "display_name": "Python 3"
    }
  },
  "cells": [
    {
      "cell_type": "markdown",
      "metadata": {
        "id": "bdJFRvtRO1y2"
      },
      "source": [
        "# Sample Code of Jackknife Estimator"
      ]
    },
    {
      "cell_type": "code",
      "metadata": {
        "id": "M2xp8NWzMRf5"
      },
      "source": [
        "import numpy as np\r\n",
        "import sympy\r\n",
        "from matplotlib import pyplot as plt"
      ],
      "execution_count": 1,
      "outputs": []
    },
    {
      "cell_type": "markdown",
      "metadata": {
        "id": "wyGedcd0O9wA"
      },
      "source": [
        "Confirm that `numpy.random.randn` generates the normal distribution."
      ]
    },
    {
      "cell_type": "code",
      "metadata": {
        "colab": {
          "base_uri": "https://localhost:8080/",
          "height": 264
        },
        "id": "BQJeScFsNrHg",
        "outputId": "f12afde3-a41f-4e90-f14a-1a71812157cb"
      },
      "source": [
        "x = np.random.randn(10000)\r\n",
        "fig, ax = plt.subplots(facecolor='w')\r\n",
        "n, bins, _ = ax.hist(x, bins=100)"
      ],
      "execution_count": 2,
      "outputs": [
        {
          "output_type": "display_data",
          "data": {
            "image/png": "[encoded data removed]",
            "text/plain": [
              "<Figure size 432x288 with 1 Axes>"
            ]
          },
          "metadata": {
            "tags": []
          }
        }
      ]
    },
    {
      "cell_type": "markdown",
      "metadata": {
        "id": "-U2RBYm2PPvX"
      },
      "source": [
        "Calculates the kurtosis $U_N$ of the given data and see the sample-number dependence."
      ]
    },
    {
      "cell_type": "code",
      "metadata": {
        "id": "chvQV1u0N-qA"
      },
      "source": [
        "def simple_estimator(r):\r\n",
        "    r2 = r ** 2\r\n",
        "    r4 = r ** 4\r\n",
        "    return np.average(r4)/np.average(r2)**2"
      ],
      "execution_count": 3,
      "outputs": []
    },
    {
      "cell_type": "code",
      "metadata": {
        "colab": {
          "base_uri": "https://localhost:8080/"
        },
        "id": "dj8kJqKYO1Fx",
        "outputId": "72b37422-95d2-49a6-d432-162746c02d46"
      },
      "source": [
        "samples = np.array([16,32,64,128,256])\r\n",
        "n_trials = 128**2\r\n",
        "for n in samples:\r\n",
        "    u = [simple_estimator(np.random.randn(n)) for _ in range(n_trials)]\r\n",
        "    print(f\"{n} {np.average(u)}\")"
      ],
      "execution_count": 4,
      "outputs": [
        {
          "output_type": "stream",
          "text": [
            "16 2.6696052026922716\n",
            "32 2.824106586907407\n",
            "64 2.9050796406193515\n",
            "128 2.953713443091351\n",
            "256 2.9782266454583377\n"
          ],
          "name": "stdout"
        }
      ]
    },
    {
      "cell_type": "markdown",
      "metadata": {
        "id": "o_P8_EklQiNg"
      },
      "source": [
        "Plots $N$-dependence."
      ]
    },
    {
      "cell_type": "code",
      "metadata": {
        "colab": {
          "base_uri": "https://localhost:8080/",
          "height": 278
        },
        "id": "L7AvXj7NPdtR",
        "outputId": "0460958b-b545-4b9e-d351-86cf905356cd"
      },
      "source": [
        "samples = np.array([16,32,64,128,256])\r\n",
        "y = []\r\n",
        "n_trials = 128**2\r\n",
        "for n in samples:\r\n",
        "    u = [simple_estimator(np.random.randn(n)) for _ in range(n_trials)]\r\n",
        "    y.append(np.average(u))\r\n",
        "x = 1.0/samples\r\n",
        "y_theory = [3.0 for _ in x]\r\n",
        "fig, ax = plt.subplots(facecolor='w')\r\n",
        "plt.xlabel(\"1 / N\")\r\n",
        "plt.ylabel(\"U_N\")\r\n",
        "ax.patch.set_alpha(1.0)\r\n",
        "ax.plot(x,y,\"-o\",label=\"Simple\")\r\n",
        "ax.plot(x,y_theory,\"-\", label=\"3\", color=\"black\")\r\n",
        "plt.show()"
      ],
      "execution_count": 5,
      "outputs": [
        {
          "output_type": "display_data",
          "data": {
            "image/png": "[encoded data removed]",
            "text/plain": [
              "<Figure size 432x288 with 1 Axes>"
            ]
          },
          "metadata": {
            "tags": []
          }
        }
      ]
    },
    {
      "cell_type": "markdown",
      "metadata": {
        "id": "YwsGIgfiVXwE"
      },
      "source": [
        "See the sample-number dependene of $\\left< x^2\\right>$ and $\\left< x^4\\right>$."
      ]
    },
    {
      "cell_type": "code",
      "metadata": {
        "colab": {
          "base_uri": "https://localhost:8080/"
        },
        "id": "mfXBKRgFQ0Gg",
        "outputId": "872afd28-bf6c-4977-a7f3-1c8c15e088ec"
      },
      "source": [
        "samples = np.array([16,32,64,128,256])\r\n",
        "n_trials = 128**2\r\n",
        "y = []\r\n",
        "for n in samples:\r\n",
        "    r2 = []\r\n",
        "    r4 = []\r\n",
        "    for _ in range(n_trials):\r\n",
        "        r = np.random.randn(n)\r\n",
        "        r2.append(np.average(r**2))\r\n",
        "        r4.append(np.average(r**4))\r\n",
        "    print(f\"{n} {np.average(r2)} {np.average(r4)}\")"
      ],
      "execution_count": 6,
      "outputs": [
        {
          "output_type": "stream",
          "text": [
            "16 0.999465562070453 3.005844670875974\n",
            "32 1.0008607815305237 3.0064247878521364\n",
            "64 1.0003747354059787 3.0043562495298435\n",
            "128 1.0002104586806406 2.9953216856061777\n",
            "256 1.0002008929927537 3.000092614618111\n"
          ],
          "name": "stdout"
        }
      ]
    },
    {
      "cell_type": "markdown",
      "metadata": {
        "id": "mzOP4piJVh3n"
      },
      "source": [
        "See the sample-number dependene of $1/\\left< x^2\\right>^2$."
      ]
    },
    {
      "cell_type": "code",
      "metadata": {
        "colab": {
          "base_uri": "https://localhost:8080/"
        },
        "id": "sW-ICAHsUfvn",
        "outputId": "b4b61c0e-d2bf-43d0-a643-8440bb02d600"
      },
      "source": [
        "samples = np.array([16,32,64,128,256])\r\n",
        "n_trials = 128**2\r\n",
        "y = []\r\n",
        "for n in samples:\r\n",
        "    r2_inv2 = []\r\n",
        "    for _ in range(n_trials):\r\n",
        "        r = np.random.randn(n)\r\n",
        "        r2_inv2.append(1.0/np.average(r**2)**2)\r\n",
        "    print(f\"{n} {np.average(r2_inv2)}\")"
      ],
      "execution_count": 7,
      "outputs": [
        {
          "output_type": "stream",
          "text": [
            "16 1.523986713676061\n",
            "32 1.2230239814398973\n",
            "64 1.0972568420760895\n",
            "128 1.0468718681879718\n",
            "256 1.0229637768601192\n"
          ],
          "name": "stdout"
        }
      ]
    },
    {
      "cell_type": "markdown",
      "metadata": {
        "id": "mB2O6vKcqssY"
      },
      "source": [
        "See the sample-number dependene of $1/\\left< x^2\\right>^2$ with theoretical values."
      ]
    },
    {
      "cell_type": "code",
      "metadata": {
        "colab": {
          "base_uri": "https://localhost:8080/"
        },
        "id": "Rur_peIpVkn4",
        "outputId": "7d225407-fb1e-4986-cf27-c9bb7762d886"
      },
      "source": [
        "samples = np.array([16,32,64,128,256])\r\n",
        "n_trials = 128**2\r\n",
        "y = []\r\n",
        "var = 1.0\r\n",
        "for n in samples:\r\n",
        "    r2_inv2 = []\r\n",
        "    for _ in range(n_trials):\r\n",
        "        r = np.random.randn(n)\r\n",
        "        r2_inv2.append(1.0/np.average(r**2)**2)\r\n",
        "    print(f\"{n} {np.average(r2_inv2)} {var**-2 + 6.0/n/var**2}\")"
      ],
      "execution_count": 8,
      "outputs": [
        {
          "output_type": "stream",
          "text": [
            "16 1.5328851827208179 1.375\n",
            "32 1.2240910225223303 1.1875\n",
            "64 1.1071337688851866 1.09375\n",
            "128 1.0482377262221787 1.046875\n",
            "256 1.0238035516550532 1.0234375\n"
          ],
          "name": "stdout"
        }
      ]
    },
    {
      "cell_type": "markdown",
      "metadata": {
        "id": "ZVrDd-J3q27p"
      },
      "source": [
        "Same as the above but with a different value of variance."
      ]
    },
    {
      "cell_type": "code",
      "metadata": {
        "colab": {
          "base_uri": "https://localhost:8080/"
        },
        "id": "nH9gphofee3q",
        "outputId": "3c9cfdeb-1926-4ae0-d442-19a0d0f99ecf"
      },
      "source": [
        "samples = np.array([16,32,64,128,256])\r\n",
        "n_trials = 128**2\r\n",
        "y = []\r\n",
        "var = 2.0\r\n",
        "for n in samples:\r\n",
        "    r2_inv2 = []\r\n",
        "    for _ in range(n_trials):\r\n",
        "        r = np.random.normal(loc=0.0, scale=np.sqrt(var), size = n)\r\n",
        "        r2_inv2.append(1.0/np.average(r**2)**2)\r\n",
        "    print(f\"{n} {np.average(r2_inv2)} {var**-2 + 6.0/n/var**2}\")"
      ],
      "execution_count": 9,
      "outputs": [
        {
          "output_type": "stream",
          "text": [
            "16 0.374463420490003 0.34375\n",
            "32 0.30413179388248746 0.296875\n",
            "64 0.2752820559325847 0.2734375\n",
            "128 0.2621156513989086 0.26171875\n",
            "256 0.25623244921995114 0.255859375\n"
          ],
          "name": "stdout"
        }
      ]
    },
    {
      "cell_type": "markdown",
      "metadata": {
        "id": "UKtd9fE_mlXL"
      },
      "source": [
        "Jackknife resampling method."
      ]
    },
    {
      "cell_type": "code",
      "metadata": {
        "id": "QgpXR-rlfgA_"
      },
      "source": [
        "def jackknife_estimator(r):\r\n",
        "    divs = np.array(sympy.divisors(n))\r\n",
        "    idx = np.abs(divs-np.sqrt(len(r))).argmin()\r\n",
        "    bin_size = divs[idx]\r\n",
        "    r2 = r ** 2\r\n",
        "    r4 = r ** 4\r\n",
        "    u_all = np.average(r4)/np.average(r2)**2\r\n",
        "    r2 = [np.average(r2[i:i+bin_size]) for i in range(0, len(r), bin_size)]\r\n",
        "    r4 = [np.average(r4[i:i+bin_size]) for i in range(0, len(r), bin_size)]\r\n",
        "    u_jn = []\r\n",
        "    m = len(r) // bin_size\r\n",
        "    for i in range(m):\r\n",
        "        r2_i = np.average(np.delete(r2,i))\r\n",
        "        r4_i = np.average(np.delete(r4,i))\r\n",
        "        u_jn.append(r4_i/r2_i**2)\r\n",
        "    return m*u_all - (m-1)*np.average(u_jn)    "
      ],
      "execution_count": 10,
      "outputs": []
    },
    {
      "cell_type": "code",
      "metadata": {
        "colab": {
          "base_uri": "https://localhost:8080/"
        },
        "id": "n-mkBtmWmyLV",
        "outputId": "02d67a95-c73c-4ad4-8883-d97fcd92e8f9"
      },
      "source": [
        "samples = np.array([16,32,64,128,256])\r\n",
        "n_trials = 128**2\r\n",
        "for n in samples:\r\n",
        "    u = [jackknife_estimator(np.random.randn(n)) for _ in range(n_trials)]\r\n",
        "    print(f\"{n} {np.average(u)}\")"
      ],
      "execution_count": null,
      "outputs": [
        {
          "output_type": "stream",
          "text": [
            "16 2.9656358789090222\n",
            "32 3.002123939286313\n",
            "64 2.985814912428745\n"
          ],
          "name": "stdout"
        }
      ]
    },
    {
      "cell_type": "markdown",
      "metadata": {
        "id": "HYccyZTnrIQj"
      },
      "source": [
        "Use `resample` package."
      ]
    },
    {
      "cell_type": "code",
      "metadata": {
        "id": "XQFRWD95nVFG"
      },
      "source": [
        "!pip install resample\r\n",
        "import resample"
      ],
      "execution_count": null,
      "outputs": []
    },
    {
      "cell_type": "code",
      "metadata": {
        "id": "kZskBdyZoj6C"
      },
      "source": [
        "def jackknife_estimator_resample(r):\r\n",
        "    divs = np.array(sympy.divisors(n))\r\n",
        "    idx = np.abs(divs-np.sqrt(len(r))).argmin()\r\n",
        "    bin_size = divs[idx]\r\n",
        "    m = len(r) // bin_size\r\n",
        "    sample = np.zeros((m, 2))\r\n",
        "    sample[:, 0] = [np.average(r[i:i+bin_size]**2) for i in range(0, len(r), bin_size)]\r\n",
        "    sample[:, 1] = [np.average(r[i:i+bin_size]**4) for i in range(0, len(r), bin_size)]\r\n",
        "    def f(vals):\r\n",
        "        return np.average(vals[:, 1]) / np.average(vals[:, 0])**2\r\n",
        "    return resample.jackknife.bias_corrected(f, sample)   "
      ],
      "execution_count": null,
      "outputs": []
    },
    {
      "cell_type": "code",
      "metadata": {
        "id": "_ZDhbxfRosBJ"
      },
      "source": [
        "samples = np.array([16,32,64,128,256])\r\n",
        "n_trials = 128**2\r\n",
        "for n in samples:\r\n",
        "    u = [jackknife_estimator_resample(np.random.randn(n)) for _ in range(n_trials)]\r\n",
        "    print(f\"{n} {np.average(u)}\")"
      ],
      "execution_count": null,
      "outputs": []
    }
  ]
}